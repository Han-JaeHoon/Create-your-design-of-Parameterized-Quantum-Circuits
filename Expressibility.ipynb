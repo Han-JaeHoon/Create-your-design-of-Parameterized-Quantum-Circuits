{
 "cells": [
  {
   "cell_type": "code",
   "execution_count": 3,
   "id": "partial-webcam",
   "metadata": {},
   "outputs": [
    {
     "name": "stdout",
     "output_type": "stream",
     "text": [
      "Requirement already satisfied: qiskit in /Library/Frameworks/Python.framework/Versions/3.8/lib/python3.8/site-packages (0.23.0)\n",
      "Requirement already satisfied: qiskit-terra==0.16.0 in /Library/Frameworks/Python.framework/Versions/3.8/lib/python3.8/site-packages (from qiskit) (0.16.0)\n",
      "Requirement already satisfied: qiskit-aer==0.7.0 in /Library/Frameworks/Python.framework/Versions/3.8/lib/python3.8/site-packages (from qiskit) (0.7.0)\n",
      "Requirement already satisfied: qiskit-ignis==0.5.0 in /Library/Frameworks/Python.framework/Versions/3.8/lib/python3.8/site-packages (from qiskit) (0.5.0)\n",
      "Requirement already satisfied: qiskit-aqua==0.8.0 in /Library/Frameworks/Python.framework/Versions/3.8/lib/python3.8/site-packages (from qiskit) (0.8.0)\n",
      "Requirement already satisfied: qiskit-ibmq-provider==0.11.0 in /Library/Frameworks/Python.framework/Versions/3.8/lib/python3.8/site-packages (from qiskit) (0.11.0)\n",
      "Requirement already satisfied: fastjsonschema>=2.10 in /Library/Frameworks/Python.framework/Versions/3.8/lib/python3.8/site-packages (from qiskit-terra==0.16.0->qiskit) (2.14.5)\n",
      "Requirement already satisfied: dill>=0.3 in /Library/Frameworks/Python.framework/Versions/3.8/lib/python3.8/site-packages (from qiskit-terra==0.16.0->qiskit) (0.3.3)\n",
      "Requirement already satisfied: psutil>=5 in /Library/Frameworks/Python.framework/Versions/3.8/lib/python3.8/site-packages (from qiskit-terra==0.16.0->qiskit) (5.7.3)\n",
      "Requirement already satisfied: jsonschema>=2.6 in /Library/Frameworks/Python.framework/Versions/3.8/lib/python3.8/site-packages (from qiskit-terra==0.16.0->qiskit) (3.2.0)\n",
      "Requirement already satisfied: ply>=3.10 in /Library/Frameworks/Python.framework/Versions/3.8/lib/python3.8/site-packages (from qiskit-terra==0.16.0->qiskit) (3.11)\n",
      "Requirement already satisfied: networkx>=2.2 in /Library/Frameworks/Python.framework/Versions/3.8/lib/python3.8/site-packages (from qiskit-terra==0.16.0->qiskit) (2.4)\n",
      "Requirement already satisfied: retworkx>=0.5.0 in /Library/Frameworks/Python.framework/Versions/3.8/lib/python3.8/site-packages (from qiskit-terra==0.16.0->qiskit) (0.5.0)\n",
      "Requirement already satisfied: scipy>=1.4 in /Library/Frameworks/Python.framework/Versions/3.8/lib/python3.8/site-packages (from qiskit-terra==0.16.0->qiskit) (1.4.1)\n",
      "Requirement already satisfied: python-dateutil>=2.8.0 in /Library/Frameworks/Python.framework/Versions/3.8/lib/python3.8/site-packages (from qiskit-terra==0.16.0->qiskit) (2.8.1)\n",
      "Requirement already satisfied: numpy>=1.17 in /Library/Frameworks/Python.framework/Versions/3.8/lib/python3.8/site-packages (from qiskit-terra==0.16.0->qiskit) (1.18.5)\n",
      "Requirement already satisfied: sympy>=1.3 in /Library/Frameworks/Python.framework/Versions/3.8/lib/python3.8/site-packages (from qiskit-terra==0.16.0->qiskit) (1.6.2)\n",
      "Requirement already satisfied: python-constraint>=1.4 in /Library/Frameworks/Python.framework/Versions/3.8/lib/python3.8/site-packages (from qiskit-terra==0.16.0->qiskit) (1.4.0)\n",
      "Requirement already satisfied: pybind11>=2.4 in /Library/Frameworks/Python.framework/Versions/3.8/lib/python3.8/site-packages (from qiskit-aer==0.7.0->qiskit) (2.6.0)\n",
      "Requirement already satisfied: cython>=0.27.1 in /Library/Frameworks/Python.framework/Versions/3.8/lib/python3.8/site-packages (from qiskit-aer==0.7.0->qiskit) (0.29.21)\n",
      "Requirement already satisfied: scikit-learn>=0.17 in /Library/Frameworks/Python.framework/Versions/3.8/lib/python3.8/site-packages (from qiskit-ignis==0.5.0->qiskit) (0.23.2)\n",
      "Requirement already satisfied: setuptools>=40.1.0 in /Library/Frameworks/Python.framework/Versions/3.8/lib/python3.8/site-packages (from qiskit-ignis==0.5.0->qiskit) (47.1.0)\n",
      "Requirement already satisfied: docplex in /Library/Frameworks/Python.framework/Versions/3.8/lib/python3.8/site-packages (from qiskit-aqua==0.8.0->qiskit) (2.16.196)\n",
      "Requirement already satisfied: quandl in /Library/Frameworks/Python.framework/Versions/3.8/lib/python3.8/site-packages (from qiskit-aqua==0.8.0->qiskit) (3.5.3)\n",
      "Requirement already satisfied: fastdtw in /Library/Frameworks/Python.framework/Versions/3.8/lib/python3.8/site-packages (from qiskit-aqua==0.8.0->qiskit) (0.3.4)\n",
      "Requirement already satisfied: h5py in /Library/Frameworks/Python.framework/Versions/3.8/lib/python3.8/site-packages (from qiskit-aqua==0.8.0->qiskit) (2.10.0)\n",
      "Requirement already satisfied: yfinance in /Library/Frameworks/Python.framework/Versions/3.8/lib/python3.8/site-packages (from qiskit-aqua==0.8.0->qiskit) (0.1.55)\n",
      "Requirement already satisfied: dlx in /Library/Frameworks/Python.framework/Versions/3.8/lib/python3.8/site-packages (from qiskit-aqua==0.8.0->qiskit) (1.0.4)\n",
      "Requirement already satisfied: pandas in /Library/Frameworks/Python.framework/Versions/3.8/lib/python3.8/site-packages (from qiskit-aqua==0.8.0->qiskit) (1.1.4)\n",
      "Requirement already satisfied: requests>=2.19 in /Library/Frameworks/Python.framework/Versions/3.8/lib/python3.8/site-packages (from qiskit-ibmq-provider==0.11.0->qiskit) (2.24.0)\n",
      "Requirement already satisfied: nest-asyncio!=1.1.0,>=1.0.0 in /Library/Frameworks/Python.framework/Versions/3.8/lib/python3.8/site-packages (from qiskit-ibmq-provider==0.11.0->qiskit) (1.4.2)\n",
      "Requirement already satisfied: urllib3>=1.21.1 in /Library/Frameworks/Python.framework/Versions/3.8/lib/python3.8/site-packages (from qiskit-ibmq-provider==0.11.0->qiskit) (1.25.10)\n",
      "Requirement already satisfied: websockets>=8 in /Library/Frameworks/Python.framework/Versions/3.8/lib/python3.8/site-packages (from qiskit-ibmq-provider==0.11.0->qiskit) (8.1)\n",
      "Requirement already satisfied: requests-ntlm>=1.1.0 in /Library/Frameworks/Python.framework/Versions/3.8/lib/python3.8/site-packages (from qiskit-ibmq-provider==0.11.0->qiskit) (1.1.0)\n",
      "Requirement already satisfied: six>=1.11.0 in /Library/Frameworks/Python.framework/Versions/3.8/lib/python3.8/site-packages (from jsonschema>=2.6->qiskit-terra==0.16.0->qiskit) (1.15.0)\n",
      "Requirement already satisfied: attrs>=17.4.0 in /Library/Frameworks/Python.framework/Versions/3.8/lib/python3.8/site-packages (from jsonschema>=2.6->qiskit-terra==0.16.0->qiskit) (20.3.0)\n",
      "Requirement already satisfied: pyrsistent>=0.14.0 in /Library/Frameworks/Python.framework/Versions/3.8/lib/python3.8/site-packages (from jsonschema>=2.6->qiskit-terra==0.16.0->qiskit) (0.17.3)\n",
      "Requirement already satisfied: decorator>=4.3.0 in /Library/Frameworks/Python.framework/Versions/3.8/lib/python3.8/site-packages (from networkx>=2.2->qiskit-terra==0.16.0->qiskit) (4.4.2)\n",
      "Requirement already satisfied: mpmath>=0.19 in /Library/Frameworks/Python.framework/Versions/3.8/lib/python3.8/site-packages (from sympy>=1.3->qiskit-terra==0.16.0->qiskit) (1.1.0)\n",
      "Requirement already satisfied: joblib>=0.11 in /Library/Frameworks/Python.framework/Versions/3.8/lib/python3.8/site-packages (from scikit-learn>=0.17->qiskit-ignis==0.5.0->qiskit) (0.17.0)\n",
      "Requirement already satisfied: threadpoolctl>=2.0.0 in /Library/Frameworks/Python.framework/Versions/3.8/lib/python3.8/site-packages (from scikit-learn>=0.17->qiskit-ignis==0.5.0->qiskit) (2.1.0)\n",
      "Requirement already satisfied: more-itertools in /Library/Frameworks/Python.framework/Versions/3.8/lib/python3.8/site-packages (from quandl->qiskit-aqua==0.8.0->qiskit) (8.6.0)\n",
      "Requirement already satisfied: inflection>=0.3.1 in /Library/Frameworks/Python.framework/Versions/3.8/lib/python3.8/site-packages (from quandl->qiskit-aqua==0.8.0->qiskit) (0.5.1)\n",
      "Requirement already satisfied: lxml>=4.5.1 in /Library/Frameworks/Python.framework/Versions/3.8/lib/python3.8/site-packages (from yfinance->qiskit-aqua==0.8.0->qiskit) (4.6.1)\n",
      "Requirement already satisfied: multitasking>=0.0.7 in /Library/Frameworks/Python.framework/Versions/3.8/lib/python3.8/site-packages (from yfinance->qiskit-aqua==0.8.0->qiskit) (0.0.9)\n",
      "Requirement already satisfied: pytz>=2017.2 in /Library/Frameworks/Python.framework/Versions/3.8/lib/python3.8/site-packages (from pandas->qiskit-aqua==0.8.0->qiskit) (2020.4)\n",
      "Requirement already satisfied: certifi>=2017.4.17 in /Library/Frameworks/Python.framework/Versions/3.8/lib/python3.8/site-packages (from requests>=2.19->qiskit-ibmq-provider==0.11.0->qiskit) (2020.6.20)\n",
      "Requirement already satisfied: chardet<4,>=3.0.2 in /Library/Frameworks/Python.framework/Versions/3.8/lib/python3.8/site-packages (from requests>=2.19->qiskit-ibmq-provider==0.11.0->qiskit) (3.0.4)\n",
      "Requirement already satisfied: idna<3,>=2.5 in /Library/Frameworks/Python.framework/Versions/3.8/lib/python3.8/site-packages (from requests>=2.19->qiskit-ibmq-provider==0.11.0->qiskit) (2.10)\n",
      "Requirement already satisfied: cryptography>=1.3 in /Library/Frameworks/Python.framework/Versions/3.8/lib/python3.8/site-packages (from requests-ntlm>=1.1.0->qiskit-ibmq-provider==0.11.0->qiskit) (3.2.1)\n",
      "Requirement already satisfied: ntlm-auth>=1.0.2 in /Library/Frameworks/Python.framework/Versions/3.8/lib/python3.8/site-packages (from requests-ntlm>=1.1.0->qiskit-ibmq-provider==0.11.0->qiskit) (1.5.0)\n",
      "Requirement already satisfied: cffi!=1.11.3,>=1.8 in /Library/Frameworks/Python.framework/Versions/3.8/lib/python3.8/site-packages (from cryptography>=1.3->requests-ntlm>=1.1.0->qiskit-ibmq-provider==0.11.0->qiskit) (1.14.3)\n",
      "Requirement already satisfied: pycparser in /Library/Frameworks/Python.framework/Versions/3.8/lib/python3.8/site-packages (from cffi!=1.11.3,>=1.8->cryptography>=1.3->requests-ntlm>=1.1.0->qiskit-ibmq-provider==0.11.0->qiskit) (2.20)\n",
      "\u001b[33mWARNING: You are using pip version 20.1.1; however, version 21.0.1 is available.\n",
      "You should consider upgrading via the '/Library/Frameworks/Python.framework/Versions/3.8/bin/python3.8 -m pip install --upgrade pip' command.\u001b[0m\n"
     ]
    }
   ],
   "source": [
    "!pip3 install qiskit\n",
    "!pip3 install pylatexenc"
   ]
  },
  {
   "cell_type": "code",
   "execution_count": 12,
   "id": "hawaiian-paintball",
   "metadata": {},
   "outputs": [],
   "source": [
    "from qiskit import *\n",
    "import numpy as np\n",
    "from scipy.stats import norm\n",
    "from matplotlib import pyplot as plt"
   ]
  },
  {
   "cell_type": "code",
   "execution_count": 2,
   "id": "velvet-separation",
   "metadata": {},
   "outputs": [
    {
     "data": {
      "image/png": "[encoded data removed]",
      "text/plain": [
       "<Figure size 133.526x84.28 with 1 Axes>"
      ]
     },
     "execution_count": 2,
     "metadata": {},
     "output_type": "execute_result"
    }
   ],
   "source": [
    "circ = QuantumCircuit(1);\n",
    "circ.h(0);\n",
    "circ.draw('mpl')"
   ]
  },
  {
   "cell_type": "code",
   "execution_count": 3,
   "id": "entertaining-turning",
   "metadata": {},
   "outputs": [],
   "source": [
    "backend = Aer.get_backend('statevector_simulator')"
   ]
  },
  {
   "cell_type": "code",
   "execution_count": 7,
   "id": "agreed-tongue",
   "metadata": {},
   "outputs": [],
   "source": [
    "def Harr(F,N):\n",
    "    return (N-1)*(1-F)**(N-2);"
   ]
  },
  {
   "cell_type": "code",
   "execution_count": 10,
   "id": "demonstrated-advocate",
   "metadata": {},
   "outputs": [],
   "source": [
    "def kl_divergence(p, q):\n",
    "    return np.sum(np.where(p != 0, p * np.log(p / q), 0))"
   ]
  },
  {
   "cell_type": "code",
   "execution_count": 13,
   "id": "natural-provider",
   "metadata": {},
   "outputs": [
    {
     "data": {
      "text/plain": [
       "[<matplotlib.lines.Line2D at 0x7fe0b86891f0>]"
      ]
     },
     "execution_count": 13,
     "metadata": {},
     "output_type": "execute_result"
    },
    {
     "data": {
      "image/png": "[encoded data removed]",
      "text/plain": [
       "<Figure size 432x288 with 1 Axes>"
      ]
     },
     "metadata": {
      "needs_background": "light"
     },
     "output_type": "display_data"
    }
   ],
   "source": [
    "x = np.arange(-10, 10, 0.001)\n",
    "p = norm.pdf(x, 0, 2)\n",
    "q = norm.pdf(x, 2, 2)\n",
    "plt.title('KL(P||Q) = %1.3f' % kl_divergence(p, q))\n",
    "plt.plot(x, p)\n",
    "plt.plot(x, q, c='red')"
   ]
  },
  {
   "cell_type": "code",
   "execution_count": null,
   "id": "intelligent-domain",
   "metadata": {},
   "outputs": [],
   "source": []
  }
 ],
 "metadata": {
  "kernelspec": {
   "display_name": "Python 3",
   "language": "python",
   "name": "python3"
  },
  "language_info": {
   "codemirror_mode": {
    "name": "ipython",
    "version": 3
   },
   "file_extension": ".py",
   "mimetype": "text/x-python",
   "name": "python",
   "nbconvert_exporter": "python",
   "pygments_lexer": "ipython3",
   "version": "3.8.5"
  }
 },
 "nbformat": 4,
 "nbformat_minor": 5
}
