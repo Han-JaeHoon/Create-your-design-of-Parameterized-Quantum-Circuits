{
 "metadata": {
  "language_info": {
   "codemirror_mode": {
    "name": "ipython",
    "version": 3
   },
   "file_extension": ".py",
   "mimetype": "text/x-python",
   "name": "python",
   "nbconvert_exporter": "python",
   "pygments_lexer": "ipython3",
   "version": "3.8.5-final"
  },
  "orig_nbformat": 2,
  "kernelspec": {
   "name": "python3",
   "display_name": "Python 3.8.5 64-bit",
   "metadata": {
    "interpreter": {
     "hash": "aee8b7b246df8f9039afb4144a1f6fd8d2ca17a180786b69acc140d282b71a49"
    }
   }
  }
 },
 "nbformat": 4,
 "nbformat_minor": 2,
 "cells": [
  {
   "cell_type": "code",
   "execution_count": 1,
   "metadata": {},
   "outputs": [],
   "source": [
    "from qiskit import *\n",
    "import numpy as np\n",
    "from scipy.stats import norm\n",
    "from matplotlib import pyplot as plt\n",
    "from scipy.stats import rv_continuous"
   ]
  },
  {
   "cell_type": "code",
   "execution_count": 2,
   "metadata": {},
   "outputs": [
    {
     "output_type": "execute_result",
     "data": {
      "text/plain": [
       "<Figure size 206.852x144.48 with 1 Axes>"
      ],
      "image/svg+xml": "<?xml version=\"1.0\" encoding=\"utf-8\" standalone=\"no\"?>\n<!DOCTYPE svg PUBLIC \"-//W3C//DTD SVG 1.1//EN\"\n  \"http://www.w3.org/Graphics/SVG/1.1/DTD/svg11.dtd\">\n<!-- Created with matplotlib (https://matplotlib.org/) -->\n<svg height=\"123.4824pt\" version=\"1.1\" viewBox=\"0 0 170.573272 123.4824\" width=\"170.573272pt\" xmlns=\"http://www.w3.org/2000/svg\" xmlns:xlink=\"http://www.w3.org/1999/xlink\">\n <metadata>\n  <rdf:RDF xmlns:cc=\"http://creativecommons.org/ns#\" xmlns:dc=\"http://purl.org/dc/elements/1.1/\" xmlns:rdf=\"http://www.w3.org/1999/02/22-rdf-syntax-ns#\">\n   <cc:Work>\n    <dc:type rdf:resource=\"http://purl.org/dc/dcmitype/StillImage\"/>\n    <dc:date>2021-02-18T11:18:55.787229</dc:date>\n    <dc:format>image/svg+xml</dc:format>\n    <dc:creator>\n     <cc:Agent>\n      <dc:title>Matplotlib v3.3.1, https://matplotlib.org/</dc:title>\n     </cc:Agent>\n    </dc:creator>\n   </cc:Work>\n  </rdf:RDF>\n </metadata>\n <defs>\n  <style type=\"text/css\">*{stroke-linecap:butt;stroke-linejoin:round;}</style>\n </defs>\n <g id=\"figure_1\">\n  <g id=\"patch_1\">\n   <path d=\"M 0 123.4824 \nL 170.573272 123.4824 \nL 170.573272 0 \nL 0 0 \nz\n\" style=\"fill:#ffffff;\"/>\n  </g>\n  <g id=\"axes_1\">\n   <g id=\"line2d_1\">\n    <path clip-path=\"url(#p739b655331)\" d=\"M 63.381072 43.5608 \nL 158.828172 43.5608 \n\" style=\"fill:none;stroke:#000000;stroke-linecap:square;stroke-width:2;\"/>\n   </g>\n   <g id=\"line2d_2\">\n    <path clip-path=\"url(#p739b655331)\" d=\"M 63.381072 89.0118 \nL 158.828172 89.0118 \n\" style=\"fill:none;stroke:#000000;stroke-linecap:square;stroke-width:2;\"/>\n   </g>\n   <g id=\"line2d_3\">\n    <path clip-path=\"url(#p739b655331)\" d=\"M 133.375612 89.0118 \nL 133.375612 43.5608 \n\" style=\"fill:none;stroke:#6fa4ff;stroke-linecap:square;stroke-width:2;\"/>\n   </g>\n   <g id=\"patch_2\">\n    <path clip-path=\"url(#p739b655331)\" d=\"M 73.153037 58.332375 \nL 102.696187 58.332375 \nL 102.696187 28.789225 \nL 73.153037 28.789225 \nz\n\" style=\"fill:#6fa4ff;stroke:#6fa4ff;stroke-linejoin:miter;stroke-width:1.5;\"/>\n   </g>\n   <g id=\"patch_3\">\n    <path clip-path=\"url(#p739b655331)\" d=\"M 133.375612 47.992273 \nC 134.550852 47.992273 135.678116 47.525345 136.509136 46.694324 \nC 137.340157 45.863304 137.807085 44.73604 137.807085 43.5608 \nC 137.807085 42.38556 137.340157 41.258296 136.509136 40.427276 \nC 135.678116 39.596255 134.550852 39.129328 133.375612 39.129328 \nC 132.200372 39.129328 131.073108 39.596255 130.242088 40.427276 \nC 129.411067 41.258296 128.94414 42.38556 128.94414 43.5608 \nC 128.94414 44.73604 129.411067 45.863304 130.242088 46.694324 \nC 131.073108 47.525345 132.200372 47.992273 133.375612 47.992273 \nz\n\" style=\"fill:#6fa4ff;stroke:#6fa4ff;stroke-linejoin:miter;stroke-width:1.5;\"/>\n   </g>\n   <g id=\"patch_4\">\n    <path clip-path=\"url(#p739b655331)\" d=\"M 133.375612 99.351903 \nC 136.117839 99.351903 138.748121 98.262404 140.687169 96.323357 \nC 142.626216 94.384309 143.715715 91.754027 143.715715 89.0118 \nC 143.715715 86.269573 142.626216 83.639291 140.687169 81.700243 \nC 138.748121 79.761196 136.117839 78.671698 133.375612 78.671698 \nC 130.633385 78.671698 128.003103 79.761196 126.064055 81.700243 \nC 124.125008 83.639291 123.03551 86.269573 123.03551 89.0118 \nC 123.03551 91.754027 124.125008 94.384309 126.064055 96.323357 \nC 128.003103 98.262404 130.633385 99.351903 133.375612 99.351903 \nz\n\" style=\"fill:#6fa4ff;stroke:#6fa4ff;stroke-linejoin:miter;stroke-width:2;\"/>\n   </g>\n   <g id=\"line2d_4\">\n    <path clip-path=\"url(#p739b655331)\" d=\"M 133.375612 94.92043 \nL 133.375612 83.10317 \n\" style=\"fill:none;stroke:#ffffff;stroke-linecap:square;stroke-width:2;\"/>\n   </g>\n   <g id=\"line2d_5\">\n    <path clip-path=\"url(#p739b655331)\" d=\"M 127.466982 89.0118 \nL 139.284242 89.0118 \n\" style=\"fill:none;stroke:#ffffff;stroke-linecap:square;stroke-width:2;\"/>\n   </g>\n   <g id=\"text_1\">\n    <g clip-path=\"url(#p739b655331)\">\n     <!-- H -->\n     <g transform=\"translate(83.036409 47.147988)scale(0.13 -0.13)\">\n      <defs>\n       <path d=\"M 9.8125 72.90625 \nL 19.671875 72.90625 \nL 19.671875 43.015625 \nL 55.515625 43.015625 \nL 55.515625 72.90625 \nL 65.375 72.90625 \nL 65.375 0 \nL 55.515625 0 \nL 55.515625 34.71875 \nL 19.671875 34.71875 \nL 19.671875 0 \nL 9.8125 0 \nz\n\" id=\"DejaVuSans-72\"/>\n      </defs>\n      <use xlink:href=\"#DejaVuSans-72\"/>\n     </g>\n    </g>\n   </g>\n   <g id=\"text_2\">\n    <g clip-path=\"url(#p739b655331)\">\n     <!-- ${q}_{0}$ -->\n     <g transform=\"translate(36.253372 48.011777)scale(0.1625 -0.1625)\">\n      <defs>\n       <path d=\"M 41.703125 8.203125 \nQ 38.09375 3.46875 33.171875 1.015625 \nQ 28.265625 -1.421875 22.3125 -1.421875 \nQ 14.015625 -1.421875 9.296875 4.171875 \nQ 4.59375 9.765625 4.59375 19.578125 \nQ 4.59375 27.484375 7.5 34.859375 \nQ 10.40625 42.234375 15.828125 48.09375 \nQ 19.34375 51.90625 23.90625 53.953125 \nQ 28.46875 56 33.5 56 \nQ 39.546875 56 43.453125 53.609375 \nQ 47.359375 51.21875 49.125 46.390625 \nL 50.6875 54.59375 \nL 59.71875 54.59375 \nL 45.125 -20.609375 \nL 36.078125 -20.609375 \nz\nM 13.921875 20.90625 \nQ 13.921875 13.671875 16.9375 9.890625 \nQ 19.96875 6.109375 25.6875 6.109375 \nQ 34.1875 6.109375 40.1875 14.234375 \nQ 46.1875 22.359375 46.1875 33.984375 \nQ 46.1875 41.015625 43.078125 44.75 \nQ 39.984375 48.484375 34.1875 48.484375 \nQ 29.9375 48.484375 26.3125 46.5 \nQ 22.703125 44.53125 20.015625 40.71875 \nQ 17.1875 36.71875 15.546875 31.34375 \nQ 13.921875 25.984375 13.921875 20.90625 \nz\n\" id=\"DejaVuSans-Oblique-113\"/>\n       <path d=\"M 31.78125 66.40625 \nQ 24.171875 66.40625 20.328125 58.90625 \nQ 16.5 51.421875 16.5 36.375 \nQ 16.5 21.390625 20.328125 13.890625 \nQ 24.171875 6.390625 31.78125 6.390625 \nQ 39.453125 6.390625 43.28125 13.890625 \nQ 47.125 21.390625 47.125 36.375 \nQ 47.125 51.421875 43.28125 58.90625 \nQ 39.453125 66.40625 31.78125 66.40625 \nz\nM 31.78125 74.21875 \nQ 44.046875 74.21875 50.515625 64.515625 \nQ 56.984375 54.828125 56.984375 36.375 \nQ 56.984375 17.96875 50.515625 8.265625 \nQ 44.046875 -1.421875 31.78125 -1.421875 \nQ 19.53125 -1.421875 13.0625 8.265625 \nQ 6.59375 17.96875 6.59375 36.375 \nQ 6.59375 54.828125 13.0625 64.515625 \nQ 19.53125 74.21875 31.78125 74.21875 \nz\n\" id=\"DejaVuSans-48\"/>\n      </defs>\n      <use xlink:href=\"#DejaVuSans-Oblique-113\"/>\n      <use transform=\"translate(63.476562 -16.40625)scale(0.7)\" xlink:href=\"#DejaVuSans-48\"/>\n     </g>\n    </g>\n   </g>\n   <g id=\"text_3\">\n    <g clip-path=\"url(#p739b655331)\">\n     <!-- ${q}_{1}$ -->\n     <g transform=\"translate(36.253372 93.462777)scale(0.1625 -0.1625)\">\n      <defs>\n       <path d=\"M 12.40625 8.296875 \nL 28.515625 8.296875 \nL 28.515625 63.921875 \nL 10.984375 60.40625 \nL 10.984375 69.390625 \nL 28.421875 72.90625 \nL 38.28125 72.90625 \nL 38.28125 8.296875 \nL 54.390625 8.296875 \nL 54.390625 0 \nL 12.40625 0 \nz\n\" id=\"DejaVuSans-49\"/>\n      </defs>\n      <use xlink:href=\"#DejaVuSans-Oblique-113\"/>\n      <use transform=\"translate(63.476562 -16.40625)scale(0.7)\" xlink:href=\"#DejaVuSans-49\"/>\n     </g>\n    </g>\n   </g>\n  </g>\n </g>\n <defs>\n  <clipPath id=\"p739b655331\">\n   <rect height=\"109.0824\" width=\"156.173272\" x=\"7.2\" y=\"7.2\"/>\n  </clipPath>\n </defs>\n</svg>\n",
      "image/png": "[encoded data removed]"
     },
     "metadata": {},
     "execution_count": 2
    }
   ],
   "source": [
    "circ = QuantumCircuit(2);\n",
    "circ.h(0);\n",
    "# circ.h(1);\n",
    "circ.cx(0,1);\n",
    "# circ.cz(0,1);\n",
    "circ.draw('mpl')"
   ]
  },
  {
   "cell_type": "code",
   "execution_count": 3,
   "metadata": {},
   "outputs": [],
   "source": [
    "backend = Aer.get_backend('statevector_simulator')\n",
    "result = execute(circ,backend).result() # Do the simulation, returning the result\n",
    "out_state = result.get_statevector();\n",
    "state_vec = np.asmatrix(out_state).T"
   ]
  },
  {
   "cell_type": "code",
   "execution_count": 4,
   "metadata": {},
   "outputs": [
    {
     "output_type": "stream",
     "name": "stdout",
     "text": [
      "[[0.70710678+0.j]\n [0.        +0.j]\n [0.        +0.j]\n [0.70710678+0.j]]\n"
     ]
    }
   ],
   "source": [
    "print(state_vec);"
   ]
  },
  {
   "cell_type": "code",
   "execution_count": 9,
   "metadata": {},
   "outputs": [],
   "source": [
    "def I(b,j,n,vec):\n",
    "    newvec = np.zeros((2**(n-1),1));\n",
    "    for new_index in range(2**(n-1)):\n",
    "        original_index = new_index%(2**(n-j)) + (new_index//(2**(n-j)))*(2**(n-j+1)) + b*(2**(n-j));\n",
    "        # print(original_index);\n",
    "        newvec[new_index]=vec[int(original_index)];\n",
    "    return newvec;\n",
    "def D(u,v,m):\n",
    "    dist = 0;\n",
    "    for i in range(m):\n",
    "        for j in range(m):\n",
    "            a = u[i]*v[j]-u[j]*v[i];\n",
    "            # print(np.abs(a))\n",
    "            dist += (1/2)*np.abs(a)**2;\n",
    "    return dist;\n",
    "def Q(n,vec):\n",
    "    sum = 0;\n",
    "    for j in range(n):\n",
    "        sum += D(I(0,j+1,n,vec),I(1,j+1,n,vec),2**(n-1));\n",
    "    return (sum * 4 / n)[0];"
   ]
  },
  {
   "cell_type": "code",
   "execution_count": 10,
   "metadata": {},
   "outputs": [
    {
     "output_type": "stream",
     "name": "stdout",
     "text": [
      "1.0\n"
     ]
    }
   ],
   "source": [
    "print(Q(2,state_vec))"
   ]
  },
  {
   "cell_type": "code",
   "execution_count": null,
   "metadata": {},
   "outputs": [],
   "source": []
  }
 ]
}