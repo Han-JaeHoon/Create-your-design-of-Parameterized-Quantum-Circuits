{
 "metadata": {
  "language_info": {
   "codemirror_mode": {
    "name": "ipython",
    "version": 3
   },
   "file_extension": ".py",
   "mimetype": "text/x-python",
   "name": "python",
   "nbconvert_exporter": "python",
   "pygments_lexer": "ipython3",
   "version": "3.8.5-final"
  },
  "orig_nbformat": 2,
  "kernelspec": {
   "name": "python3",
   "display_name": "Python 3.8.5 64-bit",
   "metadata": {
    "interpreter": {
     "hash": "aee8b7b246df8f9039afb4144a1f6fd8d2ca17a180786b69acc140d282b71a49"
    }
   }
  }
 },
 "nbformat": 4,
 "nbformat_minor": 2,
 "cells": [
  {
   "cell_type": "code",
   "execution_count": 1,
   "metadata": {},
   "outputs": [],
   "source": [
    "from qiskit import *\n",
    "import numpy as np\n",
    "from scipy.stats import norm\n",
    "from matplotlib import pyplot as plt\n",
    "from scipy.stats import rv_continuous\n",
    "from qiskit.circuit import Parameter, ParameterVector"
   ]
  },
  {
   "cell_type": "code",
   "execution_count": 2,
   "metadata": {},
   "outputs": [],
   "source": [
    "def unitary(circ,eta,phi,t):\n",
    "    theta = np.arccos(-eta);\n",
    "    circ.u3(theta,phi,t,0);"
   ]
  },
  {
   "cell_type": "code",
   "execution_count": 3,
   "metadata": {},
   "outputs": [],
   "source": [
    "class PQC:\n",
    "    def __init__(self,name,layer):\n",
    "        self.backend = Aer.get_backend('statevector_simulator');\n",
    "        self.circ = QuantumCircuit(layer);\n",
    "        self.name = name;\n",
    "        self.seed = 14256;\n",
    "        self.layer = layer;\n",
    "        np.random.seed(self.seed);\n",
    "        if self.name == \"rcz\":\n",
    "            self.theta = Parameter('θ');\n",
    "            for index in range(layer):\n",
    "                self.circ.h(index);\n",
    "            c = QuantumCircuit(1,name=\"Rz\");\n",
    "            c.rz(self.theta,0);\n",
    "            temp = c.to_gate().control(1);\n",
    "            self.circ.append(temp,[0,1]);\n",
    "        if self.name == \"circ4\":\n",
    "            self.theta1 = ParameterVector('θ1', layer);\n",
    "            self.theta2 = ParameterVector('θ2', layer);\n",
    "            self.theta3 = ParameterVector('θ3', layer-1);\n",
    "            # print(self.theta1)\n",
    "            for i in range(self.layer):\n",
    "                self.circ.rx(self.theta1[i],i);\n",
    "            for i in range(self.layer):\n",
    "                self.circ.rz(self.theta2[i],i);\n",
    "            for i in range(self.layer-1):\n",
    "                c = QuantumCircuit(1, name=\"Rx\");\n",
    "                c.rz(self.theta3[i],0);\n",
    "                temp = c.to_gate().control(1);\n",
    "                self.circ.append(temp,[i,i+1]);\n",
    "\n",
    "    def get(self):\n",
    "        if self.name == \"rcz\":\n",
    "            t = np.random.uniform(0,2*np.pi);\n",
    "            # theta = Parameter('θ');\n",
    "            self.circ1 = self.circ.assign_parameters({self.theta:t});\n",
    "            result = execute(self.circ1,self.backend).result();\n",
    "            out_state = result.get_statevector();\n",
    "            self.statevector = np.asmatrix(out_state).T;\n",
    "            return self.statevector;\n",
    "        if self.name == \"circ4\":\n",
    "            self.circ1 = self.circ.bind_parameters({self.theta1: np.random.uniform(0,2*np.pi,self.layer)});\n",
    "            self.circ2 = self.circ1.bind_parameters({self.theta2: np.random.uniform(0,2*np.pi,self.layer)});\n",
    "            self.circ3 = self.circ2.bind_parameters({self.theta3: np.random.uniform(0,2*np.pi,self.layer-1)});\n",
    "            result = execute(self.circ3,self.backend).result();\n",
    "            out_state = result.get_statevector();\n",
    "            self.statevector = np.asmatrix(out_state).T;\n",
    "            return self.statevector;\n",
    "\n",
    "    def draw(self):\n",
    "        self.circ.draw('mpl');\n",
    "        print(self.circ);"
   ]
  },
  {
   "cell_type": "code",
   "execution_count": 4,
   "metadata": {},
   "outputs": [],
   "source": [
    "pqc = PQC(\"circ4\",2);"
   ]
  },
  {
   "cell_type": "code",
   "execution_count": 5,
   "metadata": {},
   "outputs": [
    {
     "output_type": "stream",
     "name": "stdout",
     "text": [
      "     ┌───────────┐┌───────────┐             \nq_0: ┤ RX(θ1[0]) ├┤ RZ(θ2[0]) ├──────■──────\n     ├───────────┤├───────────┤┌─────┴─────┐\nq_1: ┤ RX(θ1[1]) ├┤ RZ(θ2[1]) ├┤ Rx(θ3[0]) ├\n     └───────────┘└───────────┘└───────────┘\n"
     ]
    }
   ],
   "source": [
    "pqc.draw()"
   ]
  },
  {
   "cell_type": "code",
   "execution_count": 6,
   "metadata": {},
   "outputs": [],
   "source": [
    "def Haar(F,N):\n",
    "    if F<0 or F>1:\n",
    "        return 0;\n",
    "    return (N-1)*(1-F)**(N-2);\n",
    "def kl_divergence(p, q):\n",
    "    return np.sum(np.where(p*q != 0, p * np.log(p / q), 0));\n",
    "class Haar_dist(rv_continuous):\n",
    "    def _pdf(self,x,n):\n",
    "        return Haar(x,n*2);\n",
    "def I(b,j,n,vec):\n",
    "    newvec = np.zeros((2**(n-1),1));\n",
    "    for new_index in range(2**(n-1)):\n",
    "        original_index = new_index%(2**(n-j)) + (new_index//(2**(n-j)))*(2**(n-j+1)) + b*(2**(n-j));\n",
    "        # print(original_index);\n",
    "        newvec[new_index]=vec[int(original_index)];\n",
    "    return newvec;\n",
    "def D(u,v,m):\n",
    "    dist = 0;\n",
    "    for i in range(m):\n",
    "        for j in range(m):\n",
    "            a = u[i]*v[j]-u[j]*v[i];\n",
    "            # print(np.abs(a))\n",
    "            dist += (1/2)*np.abs(a)**2;\n",
    "    return dist;\n",
    "def Q(n,vec):\n",
    "    sum = 0;\n",
    "    for j in range(n):\n",
    "        sum += D(I(0,j+1,n,vec),I(1,j+1,n,vec),2**(n-1));\n",
    "    return (sum * 4 / n)[0];"
   ]
  },
  {
   "cell_type": "code",
   "execution_count": 7,
   "metadata": {},
   "outputs": [],
   "source": [
    "def expressibility(pqc, reps):\n",
    "    arr = [];\n",
    "    for i in range(reps):\n",
    "        fid = np.abs(pqc.get().getH()*pqc.get())**2;\n",
    "        arr.append(fid[0,0]);\n",
    "        if i%100==0 and i!=0:\n",
    "            print(i,\"\\n\");\n",
    "    haar = [];\n",
    "    h = Haar_dist(a=0,b=1,name=\"haar\");\n",
    "    for i in range(reps):\n",
    "        haar.append(h.ppf((i+0.5)/reps,pqc.layer));\n",
    "    n_bins = 100;\n",
    "    haar_pdf = plt.hist(np.array(haar), bins=n_bins, alpha=0.5)[0]/reps; \n",
    "    pqc_pdf = plt.hist(np.array(arr), bins=n_bins, alpha=0.5)[0]/reps;\n",
    "    kl = kl_divergence(pqc_pdf,haar_pdf);\n",
    "    plt.title('KL(P||Q) = %1.4f' % kl)\n",
    "    return kl;\n",
    "def entangling_capability(pqc, reps):\n",
    "    sum = 0;\n",
    "    for i in range(reps):\n",
    "        sum += Q(pqc.layer,pqc.get());\n",
    "    return sum/reps;"
   ]
  },
  {
   "cell_type": "code",
   "execution_count": 8,
   "metadata": {},
   "outputs": [
    {
     "output_type": "stream",
     "name": "stdout",
     "text": [
      "100 \n",
      "\n",
      "200 \n",
      "\n",
      "300 \n",
      "\n",
      "400 \n",
      "\n",
      "500 \n",
      "\n",
      "600 \n",
      "\n",
      "700 \n",
      "\n",
      "800 \n",
      "\n",
      "900 \n",
      "\n"
     ]
    },
    {
     "output_type": "error",
     "ename": "ValueError",
     "evalue": "The truth value of an array with more than one element is ambiguous. Use a.any() or a.all()",
     "traceback": [
      "\u001b[0;31m---------------------------------------------------------------------------\u001b[0m",
      "\u001b[0;31mValueError\u001b[0m                                Traceback (most recent call last)",
      "\u001b[0;32m<ipython-input-8-cb896f827d32>\u001b[0m in \u001b[0;36m<module>\u001b[0;34m\u001b[0m\n\u001b[0;32m----> 1\u001b[0;31m \u001b[0mprint\u001b[0m\u001b[0;34m(\u001b[0m\u001b[0mexpressibility\u001b[0m\u001b[0;34m(\u001b[0m\u001b[0mpqc\u001b[0m\u001b[0;34m,\u001b[0m \u001b[0;36m1000\u001b[0m\u001b[0;34m)\u001b[0m\u001b[0;34m)\u001b[0m\u001b[0;34m\u001b[0m\u001b[0;34m\u001b[0m\u001b[0m\n\u001b[0m",
      "\u001b[0;32m<ipython-input-7-5a208a0d8baf>\u001b[0m in \u001b[0;36mexpressibility\u001b[0;34m(pqc, reps)\u001b[0m\n\u001b[1;32m     13\u001b[0m     \u001b[0mhaar_pdf\u001b[0m \u001b[0;34m=\u001b[0m \u001b[0mplt\u001b[0m\u001b[0;34m.\u001b[0m\u001b[0mhist\u001b[0m\u001b[0;34m(\u001b[0m\u001b[0mnp\u001b[0m\u001b[0;34m.\u001b[0m\u001b[0marray\u001b[0m\u001b[0;34m(\u001b[0m\u001b[0mhaar\u001b[0m\u001b[0;34m)\u001b[0m\u001b[0;34m,\u001b[0m \u001b[0mbins\u001b[0m\u001b[0;34m=\u001b[0m\u001b[0mn_bins\u001b[0m\u001b[0;34m,\u001b[0m \u001b[0malpha\u001b[0m\u001b[0;34m=\u001b[0m\u001b[0;36m0.5\u001b[0m\u001b[0;34m)\u001b[0m\u001b[0;34m[\u001b[0m\u001b[0;36m0\u001b[0m\u001b[0;34m]\u001b[0m\u001b[0;34m/\u001b[0m\u001b[0mreps\u001b[0m\u001b[0;34m;\u001b[0m\u001b[0;34m\u001b[0m\u001b[0;34m\u001b[0m\u001b[0m\n\u001b[1;32m     14\u001b[0m     \u001b[0mpqc_pdf\u001b[0m \u001b[0;34m=\u001b[0m \u001b[0mplt\u001b[0m\u001b[0;34m.\u001b[0m\u001b[0mhist\u001b[0m\u001b[0;34m(\u001b[0m\u001b[0mnp\u001b[0m\u001b[0;34m.\u001b[0m\u001b[0marray\u001b[0m\u001b[0;34m(\u001b[0m\u001b[0marr\u001b[0m\u001b[0;34m)\u001b[0m\u001b[0;34m,\u001b[0m \u001b[0mbins\u001b[0m\u001b[0;34m=\u001b[0m\u001b[0mn_bins\u001b[0m\u001b[0;34m,\u001b[0m \u001b[0malpha\u001b[0m\u001b[0;34m=\u001b[0m\u001b[0;36m0.5\u001b[0m\u001b[0;34m)\u001b[0m\u001b[0;34m[\u001b[0m\u001b[0;36m0\u001b[0m\u001b[0;34m]\u001b[0m\u001b[0;34m/\u001b[0m\u001b[0mreps\u001b[0m\u001b[0;34m;\u001b[0m\u001b[0;34m\u001b[0m\u001b[0;34m\u001b[0m\u001b[0m\n\u001b[0;32m---> 15\u001b[0;31m     \u001b[0mkl\u001b[0m \u001b[0;34m=\u001b[0m \u001b[0mkl_divergence\u001b[0m\u001b[0;34m(\u001b[0m\u001b[0mpqc_pdf\u001b[0m\u001b[0;34m,\u001b[0m\u001b[0mhaar_pdf\u001b[0m\u001b[0;34m)\u001b[0m\u001b[0;34m;\u001b[0m\u001b[0;34m\u001b[0m\u001b[0;34m\u001b[0m\u001b[0m\n\u001b[0m\u001b[1;32m     16\u001b[0m     \u001b[0mplt\u001b[0m\u001b[0;34m.\u001b[0m\u001b[0mtitle\u001b[0m\u001b[0;34m(\u001b[0m\u001b[0;34m'KL(P||Q) = %1.4f'\u001b[0m \u001b[0;34m%\u001b[0m \u001b[0mkl\u001b[0m\u001b[0;34m)\u001b[0m\u001b[0;34m\u001b[0m\u001b[0;34m\u001b[0m\u001b[0m\n\u001b[1;32m     17\u001b[0m     \u001b[0;32mreturn\u001b[0m \u001b[0mkl\u001b[0m\u001b[0;34m;\u001b[0m\u001b[0;34m\u001b[0m\u001b[0;34m\u001b[0m\u001b[0m\n",
      "\u001b[0;32m<ipython-input-6-eae4938a27ec>\u001b[0m in \u001b[0;36mkl_divergence\u001b[0;34m(p, q)\u001b[0m\n\u001b[1;32m      4\u001b[0m     \u001b[0;32mreturn\u001b[0m \u001b[0;34m(\u001b[0m\u001b[0mN\u001b[0m\u001b[0;34m-\u001b[0m\u001b[0;36m1\u001b[0m\u001b[0;34m)\u001b[0m\u001b[0;34m*\u001b[0m\u001b[0;34m(\u001b[0m\u001b[0;36m1\u001b[0m\u001b[0;34m-\u001b[0m\u001b[0mF\u001b[0m\u001b[0;34m)\u001b[0m\u001b[0;34m**\u001b[0m\u001b[0;34m(\u001b[0m\u001b[0mN\u001b[0m\u001b[0;34m-\u001b[0m\u001b[0;36m2\u001b[0m\u001b[0;34m)\u001b[0m\u001b[0;34m;\u001b[0m\u001b[0;34m\u001b[0m\u001b[0;34m\u001b[0m\u001b[0m\n\u001b[1;32m      5\u001b[0m \u001b[0;32mdef\u001b[0m \u001b[0mkl_divergence\u001b[0m\u001b[0;34m(\u001b[0m\u001b[0mp\u001b[0m\u001b[0;34m,\u001b[0m \u001b[0mq\u001b[0m\u001b[0;34m)\u001b[0m\u001b[0;34m:\u001b[0m\u001b[0;34m\u001b[0m\u001b[0;34m\u001b[0m\u001b[0m\n\u001b[0;32m----> 6\u001b[0;31m     \u001b[0;32mreturn\u001b[0m \u001b[0mnp\u001b[0m\u001b[0;34m.\u001b[0m\u001b[0msum\u001b[0m\u001b[0;34m(\u001b[0m\u001b[0mnp\u001b[0m\u001b[0;34m.\u001b[0m\u001b[0mwhere\u001b[0m\u001b[0;34m(\u001b[0m\u001b[0mp\u001b[0m \u001b[0;34m!=\u001b[0m \u001b[0;36m0\u001b[0m \u001b[0;32mand\u001b[0m \u001b[0mq\u001b[0m \u001b[0;34m!=\u001b[0m \u001b[0;36m0\u001b[0m\u001b[0;34m,\u001b[0m \u001b[0mp\u001b[0m \u001b[0;34m*\u001b[0m \u001b[0mnp\u001b[0m\u001b[0;34m.\u001b[0m\u001b[0mlog\u001b[0m\u001b[0;34m(\u001b[0m\u001b[0mp\u001b[0m \u001b[0;34m/\u001b[0m \u001b[0mq\u001b[0m\u001b[0;34m)\u001b[0m\u001b[0;34m,\u001b[0m \u001b[0;36m0\u001b[0m\u001b[0;34m)\u001b[0m\u001b[0;34m)\u001b[0m\u001b[0;34m;\u001b[0m\u001b[0;34m\u001b[0m\u001b[0;34m\u001b[0m\u001b[0m\n\u001b[0m\u001b[1;32m      7\u001b[0m \u001b[0;32mclass\u001b[0m \u001b[0mHaar_dist\u001b[0m\u001b[0;34m(\u001b[0m\u001b[0mrv_continuous\u001b[0m\u001b[0;34m)\u001b[0m\u001b[0;34m:\u001b[0m\u001b[0;34m\u001b[0m\u001b[0;34m\u001b[0m\u001b[0m\n\u001b[1;32m      8\u001b[0m     \u001b[0;32mdef\u001b[0m \u001b[0m_pdf\u001b[0m\u001b[0;34m(\u001b[0m\u001b[0mself\u001b[0m\u001b[0;34m,\u001b[0m\u001b[0mx\u001b[0m\u001b[0;34m,\u001b[0m\u001b[0mn\u001b[0m\u001b[0;34m)\u001b[0m\u001b[0;34m:\u001b[0m\u001b[0;34m\u001b[0m\u001b[0;34m\u001b[0m\u001b[0m\n",
      "\u001b[0;31mValueError\u001b[0m: The truth value of an array with more than one element is ambiguous. Use a.any() or a.all()"
     ]
    }
   ],
   "source": [
    "print(expressibility(pqc, 1000))"
   ]
  },
  {
   "cell_type": "code",
   "execution_count": null,
   "metadata": {},
   "outputs": [],
   "source": []
  }
 ]
}