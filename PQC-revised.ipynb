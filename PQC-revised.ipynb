{
 "metadata": {
  "language_info": {
   "codemirror_mode": {
    "name": "ipython",
    "version": 3
   },
   "file_extension": ".py",
   "mimetype": "text/x-python",
   "name": "python",
   "nbconvert_exporter": "python",
   "pygments_lexer": "ipython3",
   "version": "3.8.5-final"
  },
  "orig_nbformat": 2,
  "kernelspec": {
   "name": "python3",
   "display_name": "Python 3.8.5 64-bit",
   "metadata": {
    "interpreter": {
     "hash": "aee8b7b246df8f9039afb4144a1f6fd8d2ca17a180786b69acc140d282b71a49"
    }
   }
  }
 },
 "nbformat": 4,
 "nbformat_minor": 2,
 "cells": [
  {
   "cell_type": "code",
   "execution_count": 1,
   "metadata": {},
   "outputs": [],
   "source": [
    "from qiskit import *\n",
    "import numpy as np\n",
    "from scipy.stats import norm\n",
    "from matplotlib import pyplot as plt\n",
    "from scipy.stats import rv_continuous\n",
    "from qiskit.circuit import Parameter"
   ]
  },
  {
   "cell_type": "code",
   "execution_count": 2,
   "metadata": {},
   "outputs": [],
   "source": [
    "def unitary(circ,eta,phi,t):\n",
    "    theta = np.arccos(-eta);\n",
    "    circ.u3(theta,phi,t,0);"
   ]
  },
  {
   "cell_type": "code",
   "execution_count": 3,
   "metadata": {},
   "outputs": [],
   "source": [
    "class PQC:\n",
    "    def __init__(self,name,layer):\n",
    "        self.backend = Aer.get_backend('statevector_simulator');\n",
    "        self.circ = QuantumCircuit(layer);\n",
    "        self.name = name;\n",
    "        self.seed = 14256;\n",
    "        np.random.seed(self.seed);\n",
    "        if self.name == \"rcz\":\n",
    "            self.theta = Parameter('θ');\n",
    "            for index in range(layer):\n",
    "                self.circ.h(index);\n",
    "            c = QuantumCircuit(1,name=\"Rz\");\n",
    "            c.rz(self.theta,0);\n",
    "            temp = c.to_gate().control(1);\n",
    "            self.circ.append(temp,[0,1]);\n",
    "\n",
    "    def get(self):\n",
    "        if self.name == \"rcz\":\n",
    "            t = np.random.uniform(0,2*np.pi);\n",
    "            # theta = Parameter('θ');\n",
    "            self.circ1 = self.circ.assign_parameters({self.theta:t});\n",
    "            result = execute(self.circ1,self.backend).result();\n",
    "            out_state = result.get_statevector();\n",
    "            self.statevector = np.asmatrix(out_state).T;\n",
    "            return self.statevector;\n",
    "\n",
    "    def draw(self):\n",
    "        self.circ.draw('mpl');\n",
    "        print(self.circ);"
   ]
  },
  {
   "cell_type": "code",
   "execution_count": 4,
   "metadata": {},
   "outputs": [],
   "source": [
    "pqc = PQC(\"rcz\",2);"
   ]
  },
  {
   "cell_type": "code",
   "execution_count": 7,
   "metadata": {},
   "outputs": [
    {
     "output_type": "stream",
     "name": "stdout",
     "text": [
      "[[ 0.5       +0.j        ]\n [-0.13883717-0.48033763j]\n [ 0.5       +0.j        ]\n [-0.13883717+0.48033763j]]\n"
     ]
    }
   ],
   "source": [
    "print(pqc.get())"
   ]
  },
  {
   "cell_type": "code",
   "execution_count": null,
   "metadata": {},
   "outputs": [],
   "source": []
  }
 ]
}