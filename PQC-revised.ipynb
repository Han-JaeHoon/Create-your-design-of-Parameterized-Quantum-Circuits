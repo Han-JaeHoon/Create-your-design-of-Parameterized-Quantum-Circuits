{
 "metadata": {
  "language_info": {
   "codemirror_mode": {
    "name": "ipython",
    "version": 3
   },
   "file_extension": ".py",
   "mimetype": "text/x-python",
   "name": "python",
   "nbconvert_exporter": "python",
   "pygments_lexer": "ipython3",
   "version": "3.8.5-final"
  },
  "orig_nbformat": 2,
  "kernelspec": {
   "name": "python3",
   "display_name": "Python 3.8.5 64-bit",
   "metadata": {
    "interpreter": {
     "hash": "aee8b7b246df8f9039afb4144a1f6fd8d2ca17a180786b69acc140d282b71a49"
    }
   }
  }
 },
 "nbformat": 4,
 "nbformat_minor": 2,
 "cells": [
  {
   "cell_type": "code",
   "execution_count": 1,
   "metadata": {},
   "outputs": [],
   "source": [
    "from qiskit import *\n",
    "import numpy as np\n",
    "from scipy.stats import norm\n",
    "from matplotlib import pyplot as plt\n",
    "from scipy.stats import rv_continuous\n",
    "from qiskit.circuit import Parameter"
   ]
  },
  {
   "cell_type": "code",
   "execution_count": 2,
   "metadata": {},
   "outputs": [],
   "source": [
    "def unitary(circ,eta,phi,t):\n",
    "    theta = np.arccos(-eta);\n",
    "    circ.u3(theta,phi,t,0);"
   ]
  },
  {
   "cell_type": "code",
   "execution_count": 3,
   "metadata": {},
   "outputs": [],
   "source": [
    "class PQC:\n",
    "    def __init__(self,name,layer):\n",
    "        self.backend = Aer.get_backend('statevector_simulator');\n",
    "        self.circ = QuantumCircuit(layer);\n",
    "        self.name = name;\n",
    "        self.seed = 14256;\n",
    "        self.layer = layer;\n",
    "        np.random.seed(self.seed);\n",
    "        if self.name == \"rcz\":\n",
    "            self.theta = Parameter('θ');\n",
    "            for index in range(layer):\n",
    "                self.circ.h(index);\n",
    "            c = QuantumCircuit(1,name=\"Rz\");\n",
    "            c.rz(self.theta,0);\n",
    "            temp = c.to_gate().control(1);\n",
    "            self.circ.append(temp,[0,1]);\n",
    "        if self.name == \"circ4\":\n",
    "            self.theta1 = [Parameter('θ1')] * layer;\n",
    "            self.theta2 = [Parameter('θ2')] * layer;\n",
    "            self.theta3 = [Parameter('θ3')] * (layer-1);\n",
    "            for i in range(self.layer):\n",
    "                self.circ.rx(self.theta1[i],i);\n",
    "            for i in range(self.layer):\n",
    "                self.circ.rz(self.theta2[i],i);\n",
    "            for i in range(self.layer-1):\n",
    "                c = QuantumCircuit(1, name=\"Rx\");\n",
    "                c.rz(self.theta3[i],0);\n",
    "                temp = c.to_gate().control(1);\n",
    "                self.circ.append(temp,[i,i+1]);\n",
    "\n",
    "    def get(self):\n",
    "        if self.name == \"rcz\":\n",
    "            t = np.random.uniform(0,2*np.pi);\n",
    "            # theta = Parameter('θ');\n",
    "            self.circ1 = self.circ.assign_parameters({self.theta:t});\n",
    "            result = execute(self.circ1,self.backend).result();\n",
    "            out_state = result.get_statevector();\n",
    "            self.statevector = np.asmatrix(out_state).T;\n",
    "            return self.statevector;\n",
    "        if self.name == \"circ4\":\n",
    "            self.circ1 = [self.circ.assign_parameters({self.theta1[i]: np.random.uniform(0,2*np.pi)}) for i in range(self.layer)];\n",
    "            self.circ2 = [self.circ1[-1].assign_parameters({self.theta2[i]: np.random.uniform(0,2*np.pi)}) for i in range(self.layer)];\n",
    "            self.circ3 = [self.circ2[-1].assign_parameters({self.theta3[i]: np.random.uniform(0,2*np.pi)}) for i in range(self.layer-1)];\n",
    "            result = execute(self.circ3[-1],self.backend).result();\n",
    "            out_state = result.get_statevector();\n",
    "            self.statevector = np.asmatrix(out_state).T;\n",
    "            return self.statevector;\n",
    "\n",
    "    def draw(self):\n",
    "        self.circ.draw('mpl');\n",
    "        print(self.circ);"
   ]
  },
  {
   "cell_type": "code",
   "execution_count": 4,
   "metadata": {},
   "outputs": [],
   "source": [
    "pqc = PQC(\"circ4\",5);"
   ]
  },
  {
   "cell_type": "code",
   "execution_count": 5,
   "metadata": {},
   "outputs": [
    {
     "output_type": "stream",
     "name": "stdout",
     "text": [
      "[[-0.20068816+8.13545266e-01j]\n [-0.2004165 -1.06259498e-01j]\n [-0.2004165 -1.06259498e-01j]\n [ 0.03365171+5.13693264e-02j]\n [-0.2004165 -1.06259498e-01j]\n [ 0.04109737-4.56316939e-02j]\n [ 0.03365171+5.13693264e-02j]\n [-0.00127236-1.65761365e-02j]\n [-0.2004165 -1.06259498e-01j]\n [ 0.04109737-4.56316939e-02j]\n [ 0.04109737-4.56316939e-02j]\n [-0.01570459+5.45464925e-03j]\n [ 0.03365171+5.13693264e-02j]\n [-0.01570459+5.45464925e-03j]\n [-0.00127236-1.65761365e-02j]\n [-0.00186281+4.09705105e-03j]\n [-0.03816465-2.23609735e-01j]\n [ 0.06123035+4.69995385e-03j]\n [ 0.06123035+4.69995385e-03j]\n [-0.01390658-9.11011250e-03j]\n [ 0.06123035+4.69995385e-03j]\n [-0.00526534+1.57690656e-02j]\n [-0.01390658-9.11011250e-03j]\n [ 0.00210823+3.97633685e-03j]\n [-0.02014885+5.80109413e-02j]\n [-0.01390658-9.11011250e-03j]\n [-0.01390658-9.11011250e-03j]\n [ 0.00210823+3.97633685e-03j]\n [ 0.0123533 -1.11257838e-02j]\n [ 0.00210823+3.97633685e-03j]\n [-0.00438231+1.02528098e-03j]\n [ 0.00117312+3.29111813e-04j]]\n"
     ]
    }
   ],
   "source": [
    "print(pqc.get())"
   ]
  },
  {
   "cell_type": "code",
   "execution_count": 6,
   "metadata": {},
   "outputs": [
    {
     "output_type": "stream",
     "name": "stdout",
     "text": [
      "     ┌────────┐┌────────┐                                        \nq_0: ┤ RX(θ1) ├┤ RZ(θ2) ├────■───────────────────────────────────\n     ├────────┤├────────┤┌───┴────┐                              \nq_1: ┤ RX(θ1) ├┤ RZ(θ2) ├┤ Rx(θ3) ├────■─────────────────────────\n     ├────────┤├────────┤└────────┘┌───┴────┐                    \nq_2: ┤ RX(θ1) ├┤ RZ(θ2) ├──────────┤ Rx(θ3) ├────■───────────────\n     ├────────┤├────────┤          └────────┘┌───┴────┐          \nq_3: ┤ RX(θ1) ├┤ RZ(θ2) ├────────────────────┤ Rx(θ3) ├────■─────\n     ├────────┤├────────┤                    └────────┘┌───┴────┐\nq_4: ┤ RX(θ1) ├┤ RZ(θ2) ├──────────────────────────────┤ Rx(θ3) ├\n     └────────┘└────────┘                              └────────┘\n"
     ]
    }
   ],
   "source": [
    "pqc.draw()"
   ]
  },
  {
   "cell_type": "code",
   "execution_count": null,
   "metadata": {},
   "outputs": [],
   "source": []
  }
 ]
}