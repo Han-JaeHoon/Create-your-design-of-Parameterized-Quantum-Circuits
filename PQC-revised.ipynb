{
 "metadata": {
  "language_info": {
   "codemirror_mode": {
    "name": "ipython",
    "version": 3
   },
   "file_extension": ".py",
   "mimetype": "text/x-python",
   "name": "python",
   "nbconvert_exporter": "python",
   "pygments_lexer": "ipython3",
   "version": "3.8.5-final"
  },
  "orig_nbformat": 2,
  "kernelspec": {
   "name": "python3",
   "display_name": "Python 3.8.5 64-bit",
   "metadata": {
    "interpreter": {
     "hash": "aee8b7b246df8f9039afb4144a1f6fd8d2ca17a180786b69acc140d282b71a49"
    }
   }
  }
 },
 "nbformat": 4,
 "nbformat_minor": 2,
 "cells": [
  {
   "cell_type": "code",
   "execution_count": 1,
   "metadata": {},
   "outputs": [],
   "source": [
    "from qiskit import *\n",
    "import numpy as np\n",
    "from scipy.stats import norm\n",
    "from matplotlib import pyplot as plt\n",
    "from scipy.stats import rv_continuous\n",
    "from qiskit.circuit import Parameter, ParameterVector"
   ]
  },
  {
   "cell_type": "code",
   "execution_count": 2,
   "metadata": {},
   "outputs": [],
   "source": [
    "def unitary(circ,eta,phi,t):\n",
    "    theta = np.arccos(-eta);\n",
    "    circ.u3(theta,phi,t,0);"
   ]
  },
  {
   "cell_type": "code",
   "execution_count": 3,
   "metadata": {},
   "outputs": [],
   "source": [
    "class PQC:\n",
    "    def __init__(self,name,layer):\n",
    "        self.backend = Aer.get_backend('statevector_simulator');\n",
    "        self.circ = QuantumCircuit(layer);\n",
    "        self.name = name;\n",
    "        self.seed = 14256;\n",
    "        self.layer = layer;\n",
    "        np.random.seed(self.seed);\n",
    "        if self.name == \"rcz\":\n",
    "            self.theta = Parameter('θ');\n",
    "            for index in range(layer):\n",
    "                self.circ.h(index);\n",
    "            c = QuantumCircuit(1,name=\"Rz\");\n",
    "            c.rz(self.theta,0);\n",
    "            temp = c.to_gate().control(1);\n",
    "            self.circ.append(temp,[0,1]);\n",
    "        if self.name == \"circ4\":\n",
    "            self.theta1 = ParameterVector('θ1', layer);\n",
    "            self.theta2 = ParameterVector('θ2', layer);\n",
    "            self.theta3 = ParameterVector('θ3', layer-1);\n",
    "            # print(self.theta1)\n",
    "            for i in range(self.layer):\n",
    "                self.circ.rx(self.theta1[i],i);\n",
    "            for i in range(self.layer):\n",
    "                self.circ.rz(self.theta2[i],i);\n",
    "            for i in range(self.layer-1):\n",
    "                c = QuantumCircuit(1, name=\"Rx\");\n",
    "                c.rz(self.theta3[i],0);\n",
    "                temp = c.to_gate().control(1);\n",
    "                self.circ.append(temp,[i,i+1]);\n",
    "\n",
    "    def get(self):\n",
    "        if self.name == \"rcz\":\n",
    "            t = np.random.uniform(0,2*np.pi);\n",
    "            # theta = Parameter('θ');\n",
    "            self.circ1 = self.circ.assign_parameters({self.theta:t});\n",
    "            result = execute(self.circ1,self.backend).result();\n",
    "            out_state = result.get_statevector();\n",
    "            self.statevector = np.asmatrix(out_state).T;\n",
    "            return self.statevector;\n",
    "        if self.name == \"circ4\":\n",
    "            self.circ1 = self.circ.bind_parameters({self.theta1: np.random.uniform(0,2*np.pi,self.layer)});\n",
    "            self.circ2 = self.circ1.bind_parameters({self.theta2: np.random.uniform(0,2*np.pi,self.layer)});\n",
    "            self.circ3 = self.circ2.bind_parameters({self.theta3: np.random.uniform(0,2*np.pi,self.layer-1)});\n",
    "            result = execute(self.circ3,self.backend).result();\n",
    "            out_state = result.get_statevector();\n",
    "            self.statevector = np.asmatrix(out_state).T;\n",
    "            return self.statevector;\n",
    "\n",
    "    def draw(self):\n",
    "        self.circ.draw('mpl');\n",
    "        print(self.circ);"
   ]
  },
  {
   "cell_type": "code",
   "execution_count": 4,
   "metadata": {},
   "outputs": [],
   "source": [
    "pqc = PQC(\"circ4\",5);"
   ]
  },
  {
   "cell_type": "code",
   "execution_count": 5,
   "metadata": {},
   "outputs": [
    {
     "output_type": "stream",
     "name": "stdout",
     "text": [
      "[[-1.11501923e-01+4.84619369e-02j]\n [-8.71518095e-02+2.03410537e-01j]\n [-3.06029043e-03-4.43955186e-03j]\n [ 8.69259711e-03+4.55700296e-03j]\n [-4.15865303e-01-6.31064015e-02j]\n [-6.29543686e-01+4.35711242e-01j]\n [-8.08490347e-03-1.68122612e-02j]\n [ 2.72738094e-02+2.02273780e-02j]\n [ 3.44682665e-02+2.55718961e-02j]\n [ 7.75786806e-02-9.17435724e-03j]\n [-8.18966981e-04+1.71828750e-03j]\n [-1.37348527e-04-3.46195249e-03j]\n [-1.18455722e-01-8.95329657e-02j]\n [-2.68673208e-01+2.93426162e-02j]\n [ 3.18488178e-04-6.57778507e-03j]\n [ 5.06266441e-03+1.08652180e-02j]\n [ 2.24325343e-02-2.40846305e-02j]\n [-3.66016016e-04-5.99072256e-02j]\n [ 1.23958116e-03+7.70900960e-04j]\n [-2.65012691e-03-1.91004947e-04j]\n [ 1.10034848e-01-2.93073314e-02j]\n [ 1.09126998e-01-1.76211570e-01j]\n [ 3.82452095e-03+3.29826965e-03j]\n [-8.95618087e-03-2.07086654e-03j]\n [ 5.41756171e-03-1.02783936e-02j]\n [-5.65983404e-03-2.03768348e-02j]\n [ 4.93558133e-04+1.48118161e-04j]\n [-9.20557702e-04+1.79782376e-04j]\n [-1.90600504e-02+3.53915623e-02j]\n [ 1.89511075e-02+7.06701820e-02j]\n [-1.77302058e-03+1.86559846e-04j]\n [ 2.69777757e-03-1.80340824e-03j]]\n"
     ]
    }
   ],
   "source": [
    "print(pqc.get())"
   ]
  },
  {
   "cell_type": "code",
   "execution_count": 6,
   "metadata": {},
   "outputs": [
    {
     "output_type": "stream",
     "name": "stdout",
     "text": [
      "     ┌───────────┐┌───────────┐                                       »\nq_0: ┤ RX(θ1[0]) ├┤ RZ(θ2[0]) ├──────■────────────────────────────────»\n     ├───────────┤├───────────┤┌─────┴─────┐                          »\nq_1: ┤ RX(θ1[1]) ├┤ RZ(θ2[1]) ├┤ Rx(θ3[0]) ├──────■───────────────────»\n     ├───────────┤├───────────┤└───────────┘┌─────┴─────┐             »\nq_2: ┤ RX(θ1[2]) ├┤ RZ(θ2[2]) ├─────────────┤ Rx(θ3[1]) ├──────■──────»\n     ├───────────┤├───────────┤             └───────────┘┌─────┴─────┐»\nq_3: ┤ RX(θ1[3]) ├┤ RZ(θ2[3]) ├──────────────────────────┤ Rx(θ3[2]) ├»\n     ├───────────┤├───────────┤                          └───────────┘»\nq_4: ┤ RX(θ1[4]) ├┤ RZ(θ2[4]) ├───────────────────────────────────────»\n     └───────────┘└───────────┘                                       »\n«                  \n«q_0: ─────────────\n«                  \n«q_1: ─────────────\n«                  \n«q_2: ─────────────\n«                  \n«q_3: ──────■──────\n«     ┌─────┴─────┐\n«q_4: ┤ Rx(θ3[3]) ├\n«     └───────────┘\n"
     ]
    }
   ],
   "source": [
    "pqc.draw()"
   ]
  },
  {
   "cell_type": "code",
   "execution_count": 7,
   "metadata": {},
   "outputs": [
    {
     "output_type": "stream",
     "name": "stdout",
     "text": [
      "[ 0.827358   -0.77390047 -0.06319066  0.18777462  0.54397509]\n"
     ]
    }
   ],
   "source": [
    "print(np.random.uniform(-1,1,5))"
   ]
  },
  {
   "cell_type": "code",
   "execution_count": null,
   "metadata": {},
   "outputs": [],
   "source": []
  }
 ]
}