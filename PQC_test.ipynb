{
 "cells": [
  {
   "cell_type": "code",
   "execution_count": 1,
   "metadata": {},
   "outputs": [],
   "source": [
    "from PQC import *"
   ]
  },
  {
   "cell_type": "code",
   "execution_count": 2,
   "metadata": {},
   "outputs": [],
   "source": [
    "pqc = PQC(\"rcz\",2);"
   ]
  },
  {
   "cell_type": "code",
   "execution_count": 3,
   "metadata": {},
   "outputs": [
    {
     "data": {
      "image/png": "[encoded data removed]",
      "text/plain": [
       "<Figure size 206.852x144.48 with 1 Axes>"
      ]
     },
     "execution_count": 3,
     "metadata": {},
     "output_type": "execute_result"
    }
   ],
   "source": [
    "pqc.circ.draw('mpl')"
   ]
  },
  {
   "cell_type": "code",
   "execution_count": 4,
   "metadata": {},
   "outputs": [
    {
     "name": "stdout",
     "output_type": "stream",
     "text": [
      "[[0.5       +0.00000000e+00j]\n",
      " [0.24075578-4.38219870e-01j]\n",
      " [0.5       +2.77555756e-17j]\n",
      " [0.24075578+4.38219870e-01j]]\n"
     ]
    }
   ],
   "source": [
    "print(pqc.get())"
   ]
  },
  {
   "cell_type": "markdown",
   "metadata": {},
   "source": [
    "# expressibility test"
   ]
  },
  {
   "cell_type": "code",
   "execution_count": 6,
   "metadata": {},
   "outputs": [
    {
     "name": "stdout",
     "output_type": "stream",
     "text": [
      "100 \n",
      "\n",
      "200 \n",
      "\n",
      "300 \n",
      "\n",
      "400 \n",
      "\n",
      "500 \n",
      "\n",
      "600 \n",
      "\n",
      "700 \n",
      "\n",
      "800 \n",
      "\n",
      "900 \n",
      "\n"
     ]
    },
    {
     "name": "stderr",
     "output_type": "stream",
     "text": [
      "C:\\_QHackathon\\myPQC.py:71: RuntimeWarning: divide by zero encountered in true_divide\n",
      "  return np.sum(np.where(p*q != 0, p * np.log(p / q), 0));\n"
     ]
    },
    {
     "data": {
      "text/plain": [
       "0.6772103761452052"
      ]
     },
     "execution_count": 6,
     "metadata": {},
     "output_type": "execute_result"
    },
    {
     "data": {
      "image/png": "[encoded data removed]",
      "text/plain": [
       "<Figure size 432x288 with 1 Axes>"
      ]
     },
     "metadata": {
      "needs_background": "light"
     },
     "output_type": "display_data"
    }
   ],
   "source": [
    "expressibility(pqc, 1000)"
   ]
  },
  {
   "cell_type": "markdown",
   "metadata": {},
   "source": [
    "# entangling capability 계산"
   ]
  },
  {
   "cell_type": "code",
   "execution_count": 7,
   "metadata": {},
   "outputs": [
    {
     "name": "stderr",
     "output_type": "stream",
     "text": [
      "C:\\_QHackathon\\myPQC.py:106: ComplexWarning: Casting complex values to real discards the imaginary part\n",
      "  newvec[new_index]=vec[int(original_index)];\n"
     ]
    },
    {
     "data": {
      "text/plain": [
       "3.5931007153364376e-33"
      ]
     },
     "execution_count": 7,
     "metadata": {},
     "output_type": "execute_result"
    }
   ],
   "source": [
    "entangling_capability(pqc, 1000)"
   ]
  },
  {
   "cell_type": "code",
   "execution_count": 8,
   "metadata": {},
   "outputs": [],
   "source": [
    "Circ4 =PQC(\"circ4\", 4);"
   ]
  },
  {
   "cell_type": "code",
   "execution_count": 9,
   "metadata": {},
   "outputs": [
    {
     "data": {
      "image/png": "[encoded data removed]",
      "text/plain": [
       "<Figure size 387.597x264.88 with 1 Axes>"
      ]
     },
     "execution_count": 9,
     "metadata": {},
     "output_type": "execute_result"
    }
   ],
   "source": [
    "Circ4.circ.draw('mpl')"
   ]
  },
  {
   "cell_type": "code",
   "execution_count": 10,
   "metadata": {},
   "outputs": [
    {
     "name": "stdout",
     "output_type": "stream",
     "text": [
      "100 \n",
      "\n",
      "200 \n",
      "\n",
      "300 \n",
      "\n",
      "400 \n",
      "\n",
      "500 \n",
      "\n",
      "600 \n",
      "\n",
      "700 \n",
      "\n",
      "800 \n",
      "\n",
      "900 \n",
      "\n"
     ]
    },
    {
     "name": "stderr",
     "output_type": "stream",
     "text": [
      "C:\\_QHackathon\\myPQC.py:71: RuntimeWarning: invalid value encountered in true_divide\n",
      "  return np.sum(np.where(p*q != 0, p * np.log(p / q), 0));\n",
      "C:\\_QHackathon\\myPQC.py:71: RuntimeWarning: divide by zero encountered in log\n",
      "  return np.sum(np.where(p*q != 0, p * np.log(p / q), 0));\n",
      "C:\\_QHackathon\\myPQC.py:71: RuntimeWarning: invalid value encountered in multiply\n",
      "  return np.sum(np.where(p*q != 0, p * np.log(p / q), 0));\n"
     ]
    },
    {
     "data": {
      "text/plain": [
       "0.5288025246353685"
      ]
     },
     "execution_count": 10,
     "metadata": {},
     "output_type": "execute_result"
    },
    {
     "data": {
      "image/png": "[encoded data removed]",
      "text/plain": [
       "<Figure size 432x288 with 1 Axes>"
      ]
     },
     "metadata": {
      "needs_background": "light"
     },
     "output_type": "display_data"
    }
   ],
   "source": [
    "expressibility(Circ4, 1000)"
   ]
  },
  {
   "cell_type": "code",
   "execution_count": 11,
   "metadata": {},
   "outputs": [
    {
     "data": {
      "text/plain": [
       "0.07145327955800389"
      ]
     },
     "execution_count": 11,
     "metadata": {},
     "output_type": "execute_result"
    }
   ],
   "source": [
    "entangling_capability(Circ4, 1000)"
   ]
  }
 ],
 "metadata": {
  "kernelspec": {
   "display_name": "Python 3",
   "language": "python",
   "name": "python3"
  },
  "language_info": {
   "codemirror_mode": {
    "name": "ipython",
    "version": 3
   },
   "file_extension": ".py",
   "mimetype": "text/x-python",
   "name": "python",
   "nbconvert_exporter": "python",
   "pygments_lexer": "ipython3",
   "version": "3.6.10"
  }
 },
 "nbformat": 4,
 "nbformat_minor": 4
}
